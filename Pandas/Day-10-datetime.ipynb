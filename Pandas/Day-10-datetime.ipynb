{
 "cells": [
  {
   "cell_type": "code",
   "execution_count": 86,
   "id": "346e33ba",
   "metadata": {},
   "outputs": [],
   "source": [
    "from datetime import datetime\n",
    "from datetime import timedelta\n",
    "import pandas as pd"
   ]
  },
  {
   "cell_type": "markdown",
   "id": "461eb33e",
   "metadata": {},
   "source": [
    "# How do you get the current date and time using Python's datetime module?"
   ]
  },
  {
   "cell_type": "code",
   "execution_count": 3,
   "id": "aa89966c",
   "metadata": {},
   "outputs": [
    {
     "data": {
      "text/plain": [
       "datetime.datetime(2024, 8, 26, 15, 44, 25, 969468)"
      ]
     },
     "execution_count": 3,
     "metadata": {},
     "output_type": "execute_result"
    }
   ],
   "source": [
    "current_datetime = datetime.now()\n",
    "datetime.now()"
   ]
  },
  {
   "cell_type": "code",
   "execution_count": 18,
   "id": "8e65820c",
   "metadata": {},
   "outputs": [
    {
     "data": {
      "text/plain": [
       "'2024/08/26'"
      ]
     },
     "execution_count": 18,
     "metadata": {},
     "output_type": "execute_result"
    }
   ],
   "source": [
    "current_datetime.strftime(\"%Y/%m/%d\")"
   ]
  },
  {
   "cell_type": "code",
   "execution_count": 113,
   "id": "3d8c278c",
   "metadata": {},
   "outputs": [],
   "source": [
    "data = {\n",
    "    'Name': ['Alice', 'Bob', 'Charlie', 'David', 'Eva'],\n",
    "    'Date': [20230801, 20230802, 20230803, 20230804, 20230805],\n",
    "    'Location': ['New York', 'Los Angeles', 'Chicago', 'Houston', 'Phoenix']\n",
    "}"
   ]
  },
  {
   "cell_type": "code",
   "execution_count": 81,
   "id": "211fb93f",
   "metadata": {},
   "outputs": [],
   "source": [
    "df = pd.DataFrame(data)"
   ]
  },
  {
   "cell_type": "code",
   "execution_count": 62,
   "id": "ce837a63",
   "metadata": {},
   "outputs": [
    {
     "data": {
      "text/html": [
       "<div>\n",
       "<style scoped>\n",
       "    .dataframe tbody tr th:only-of-type {\n",
       "        vertical-align: middle;\n",
       "    }\n",
       "\n",
       "    .dataframe tbody tr th {\n",
       "        vertical-align: top;\n",
       "    }\n",
       "\n",
       "    .dataframe thead th {\n",
       "        text-align: right;\n",
       "    }\n",
       "</style>\n",
       "<table border=\"1\" class=\"dataframe\">\n",
       "  <thead>\n",
       "    <tr style=\"text-align: right;\">\n",
       "      <th></th>\n",
       "      <th>Name</th>\n",
       "      <th>Date</th>\n",
       "      <th>Location</th>\n",
       "    </tr>\n",
       "  </thead>\n",
       "  <tbody>\n",
       "    <tr>\n",
       "      <th>0</th>\n",
       "      <td>Alice</td>\n",
       "      <td>20230801</td>\n",
       "      <td>New York</td>\n",
       "    </tr>\n",
       "    <tr>\n",
       "      <th>1</th>\n",
       "      <td>Bob</td>\n",
       "      <td>20230802</td>\n",
       "      <td>Los Angeles</td>\n",
       "    </tr>\n",
       "    <tr>\n",
       "      <th>2</th>\n",
       "      <td>Charlie</td>\n",
       "      <td>20230803</td>\n",
       "      <td>Chicago</td>\n",
       "    </tr>\n",
       "    <tr>\n",
       "      <th>3</th>\n",
       "      <td>David</td>\n",
       "      <td>20230804</td>\n",
       "      <td>Houston</td>\n",
       "    </tr>\n",
       "    <tr>\n",
       "      <th>4</th>\n",
       "      <td>Eva</td>\n",
       "      <td>20230805</td>\n",
       "      <td>Phoenix</td>\n",
       "    </tr>\n",
       "  </tbody>\n",
       "</table>\n",
       "</div>"
      ],
      "text/plain": [
       "      Name      Date     Location\n",
       "0    Alice  20230801     New York\n",
       "1      Bob  20230802  Los Angeles\n",
       "2  Charlie  20230803      Chicago\n",
       "3    David  20230804      Houston\n",
       "4      Eva  20230805      Phoenix"
      ]
     },
     "execution_count": 62,
     "metadata": {},
     "output_type": "execute_result"
    }
   ],
   "source": [
    "df"
   ]
  },
  {
   "cell_type": "code",
   "execution_count": 193,
   "id": "39b8ac74",
   "metadata": {},
   "outputs": [
    {
     "data": {
      "text/plain": [
       "Name                object\n",
       "Date        datetime64[ns]\n",
       "Location            object\n",
       "dtype: object"
      ]
     },
     "execution_count": 193,
     "metadata": {},
     "output_type": "execute_result"
    }
   ],
   "source": [
    "df.dtypes"
   ]
  },
  {
   "cell_type": "code",
   "execution_count": 114,
   "id": "cd9e8a59",
   "metadata": {},
   "outputs": [],
   "source": [
    "df['Date'] = pd.to_datetime(df['Date'].astype(str),format=\"%Y-%m-%d\")"
   ]
  },
  {
   "cell_type": "code",
   "execution_count": 115,
   "id": "5ab6b23e",
   "metadata": {},
   "outputs": [
    {
     "data": {
      "text/html": [
       "<div>\n",
       "<style scoped>\n",
       "    .dataframe tbody tr th:only-of-type {\n",
       "        vertical-align: middle;\n",
       "    }\n",
       "\n",
       "    .dataframe tbody tr th {\n",
       "        vertical-align: top;\n",
       "    }\n",
       "\n",
       "    .dataframe thead th {\n",
       "        text-align: right;\n",
       "    }\n",
       "</style>\n",
       "<table border=\"1\" class=\"dataframe\">\n",
       "  <thead>\n",
       "    <tr style=\"text-align: right;\">\n",
       "      <th></th>\n",
       "      <th>Name</th>\n",
       "      <th>Date</th>\n",
       "      <th>Location</th>\n",
       "    </tr>\n",
       "  </thead>\n",
       "  <tbody>\n",
       "    <tr>\n",
       "      <th>0</th>\n",
       "      <td>Alice</td>\n",
       "      <td>2023-08-01</td>\n",
       "      <td>New York</td>\n",
       "    </tr>\n",
       "    <tr>\n",
       "      <th>1</th>\n",
       "      <td>Bob</td>\n",
       "      <td>2023-08-02</td>\n",
       "      <td>Los Angeles</td>\n",
       "    </tr>\n",
       "    <tr>\n",
       "      <th>2</th>\n",
       "      <td>Charlie</td>\n",
       "      <td>2023-08-03</td>\n",
       "      <td>Chicago</td>\n",
       "    </tr>\n",
       "    <tr>\n",
       "      <th>3</th>\n",
       "      <td>David</td>\n",
       "      <td>2023-08-04</td>\n",
       "      <td>Houston</td>\n",
       "    </tr>\n",
       "    <tr>\n",
       "      <th>4</th>\n",
       "      <td>Eva</td>\n",
       "      <td>2023-08-05</td>\n",
       "      <td>Phoenix</td>\n",
       "    </tr>\n",
       "  </tbody>\n",
       "</table>\n",
       "</div>"
      ],
      "text/plain": [
       "      Name       Date     Location\n",
       "0    Alice 2023-08-01     New York\n",
       "1      Bob 2023-08-02  Los Angeles\n",
       "2  Charlie 2023-08-03      Chicago\n",
       "3    David 2023-08-04      Houston\n",
       "4      Eva 2023-08-05      Phoenix"
      ]
     },
     "execution_count": 115,
     "metadata": {},
     "output_type": "execute_result"
    }
   ],
   "source": [
    "df"
   ]
  },
  {
   "cell_type": "code",
   "execution_count": 76,
   "id": "a5c0e654",
   "metadata": {},
   "outputs": [],
   "source": [
    "df['Date']= df['Date'].dt.strftime('%d-%m-%Y')"
   ]
  },
  {
   "cell_type": "code",
   "execution_count": 93,
   "id": "cdf9438b",
   "metadata": {},
   "outputs": [
    {
     "data": {
      "text/plain": [
       "0   2023-09-06 03:05:02.004003\n",
       "1   2023-09-07 03:05:02.004003\n",
       "2   2023-09-08 03:05:02.004003\n",
       "3   2023-09-09 03:05:02.004003\n",
       "4   2023-09-10 03:05:02.004003\n",
       "Name: Date, dtype: datetime64[ns]"
      ]
     },
     "execution_count": 93,
     "metadata": {},
     "output_type": "execute_result"
    }
   ],
   "source": [
    "# add 5 days\n",
    "df['Date'] + timedelta(days=1)\n",
    "df['Date'] + timedelta(days=1, seconds=2, microseconds=3, milliseconds=4, minutes=5, hours=3, weeks=5)"
   ]
  },
  {
   "cell_type": "code",
   "execution_count": 94,
   "id": "23593f37",
   "metadata": {},
   "outputs": [],
   "source": [
    "delta = datetime(2024, 1, 1) - datetime(2023, 1, 1)\n",
    "difference_in_days = delta.days"
   ]
  },
  {
   "cell_type": "code",
   "execution_count": 95,
   "id": "78e57daa",
   "metadata": {},
   "outputs": [
    {
     "data": {
      "text/plain": [
       "365"
      ]
     },
     "execution_count": 95,
     "metadata": {},
     "output_type": "execute_result"
    }
   ],
   "source": [
    "difference_in_days"
   ]
  },
  {
   "cell_type": "code",
   "execution_count": 119,
   "id": "23390403",
   "metadata": {
    "scrolled": true
   },
   "outputs": [
    {
     "data": {
      "text/plain": [
       "0   31 days\n",
       "1   32 days\n",
       "2   33 days\n",
       "3   34 days\n",
       "4   35 days\n",
       "Name: Date, dtype: timedelta64[ns]"
      ]
     },
     "execution_count": 119,
     "metadata": {},
     "output_type": "execute_result"
    }
   ],
   "source": [
    "df['Date'] - datetime(2023, 7, 1)"
   ]
  },
  {
   "cell_type": "code",
   "execution_count": 120,
   "id": "fea09ed9",
   "metadata": {},
   "outputs": [
    {
     "data": {
      "text/plain": [
       "0    2023\n",
       "1    2023\n",
       "2    2023\n",
       "3    2023\n",
       "4    2023\n",
       "Name: Date, dtype: int64"
      ]
     },
     "execution_count": 120,
     "metadata": {},
     "output_type": "execute_result"
    }
   ],
   "source": [
    "df['Date'].dt.year"
   ]
  },
  {
   "cell_type": "code",
   "execution_count": 121,
   "id": "e9fdec76",
   "metadata": {},
   "outputs": [
    {
     "data": {
      "text/plain": [
       "0    8\n",
       "1    8\n",
       "2    8\n",
       "3    8\n",
       "4    8\n",
       "Name: Date, dtype: int64"
      ]
     },
     "execution_count": 121,
     "metadata": {},
     "output_type": "execute_result"
    }
   ],
   "source": [
    "df['Date'].dt.month"
   ]
  },
  {
   "cell_type": "code",
   "execution_count": 124,
   "id": "508b2ef4",
   "metadata": {},
   "outputs": [
    {
     "data": {
      "text/plain": [
       "0    1\n",
       "1    2\n",
       "2    3\n",
       "3    4\n",
       "4    5\n",
       "Name: Date, dtype: int64"
      ]
     },
     "execution_count": 124,
     "metadata": {},
     "output_type": "execute_result"
    }
   ],
   "source": [
    "df['Date'].dt.day"
   ]
  },
  {
   "cell_type": "code",
   "execution_count": 135,
   "id": "9c81c808",
   "metadata": {},
   "outputs": [
    {
     "data": {
      "text/plain": [
       "DatetimeIndex(['2001-12-31', '2002-12-31', '2003-12-31', '2004-12-31',\n",
       "               '2005-12-31', '2006-12-31', '2007-12-31', '2008-12-31',\n",
       "               '2009-12-31', '2010-12-31', '2011-12-31', '2012-12-31',\n",
       "               '2013-12-31', '2014-12-31', '2015-12-31', '2016-12-31',\n",
       "               '2017-12-31', '2018-12-31', '2019-12-31', '2020-12-31',\n",
       "               '2021-12-31', '2022-12-31', '2023-12-31'],\n",
       "              dtype='datetime64[ns]', freq='A-DEC')"
      ]
     },
     "execution_count": 135,
     "metadata": {},
     "output_type": "execute_result"
    }
   ],
   "source": [
    "pd.date_range(start = '11-10-2001',end='26-08-2024',freq='Y')"
   ]
  },
  {
   "cell_type": "code",
   "execution_count": 154,
   "id": "3e9bcef3",
   "metadata": {},
   "outputs": [
    {
     "name": "stdout",
     "output_type": "stream",
     "text": [
      "Hey Shubham you are 22 years 10 months and 25 days year old, Happy 22's \n"
     ]
    }
   ],
   "source": [
    "birth_year = datetime.strptime('11-10-2001','%d-%m-%Y')\n",
    "\n",
    "today_date = datetime.now()\n",
    "\n",
    "diff = today_date - birth_year\n",
    "\n",
    "year = diff.days // 365\n",
    "\n",
    "month = (diff.days % 365) //30\n",
    "\n",
    "day = (diff.days % 365) %30\n",
    "\n",
    "print(f\"Hey Shubham you are {year} years {month} months and {day} days year old, Happy {year}'s \")"
   ]
  },
  {
   "cell_type": "code",
   "execution_count": 155,
   "id": "e285733a",
   "metadata": {},
   "outputs": [],
   "source": [
    "date_string = \"2024-08-26\"\n",
    "date_object = datetime.strptime(date_string, \"%Y-%m-%d\")"
   ]
  },
  {
   "cell_type": "code",
   "execution_count": 156,
   "id": "a2bea989",
   "metadata": {},
   "outputs": [
    {
     "data": {
      "text/plain": [
       "datetime.datetime(2024, 8, 26, 0, 0)"
      ]
     },
     "execution_count": 156,
     "metadata": {},
     "output_type": "execute_result"
    }
   ],
   "source": [
    "date_object"
   ]
  },
  {
   "cell_type": "code",
   "execution_count": null,
   "id": "00f9c51d",
   "metadata": {},
   "outputs": [],
   "source": []
  },
  {
   "cell_type": "code",
   "execution_count": 159,
   "id": "f0ee493a",
   "metadata": {},
   "outputs": [
    {
     "data": {
      "text/plain": [
       "datetime.datetime(2024, 8, 26, 0, 0)"
      ]
     },
     "execution_count": 159,
     "metadata": {},
     "output_type": "execute_result"
    }
   ],
   "source": [
    "datetime.strptime('2024-08-26','%Y-%m-%d')"
   ]
  },
  {
   "cell_type": "markdown",
   "id": "e3b9724d",
   "metadata": {},
   "source": [
    "# this is the str to datetime"
   ]
  },
  {
   "cell_type": "code",
   "execution_count": 160,
   "id": "d6c2f566",
   "metadata": {},
   "outputs": [],
   "source": [
    "#below is by pd"
   ]
  },
  {
   "cell_type": "code",
   "execution_count": 163,
   "id": "d37633e8",
   "metadata": {},
   "outputs": [
    {
     "data": {
      "text/plain": [
       "Timestamp('2024-08-26 00:00:00')"
      ]
     },
     "execution_count": 163,
     "metadata": {},
     "output_type": "execute_result"
    }
   ],
   "source": [
    "today = pd.to_datetime('2024-08-26',format='%Y-%m-%d')\n",
    "pd.to_datetime('2024-08-26',format='%Y-%m-%d')"
   ]
  },
  {
   "cell_type": "code",
   "execution_count": null,
   "id": "28ff785a",
   "metadata": {},
   "outputs": [],
   "source": []
  },
  {
   "cell_type": "code",
   "execution_count": 170,
   "id": "137eda32",
   "metadata": {},
   "outputs": [
    {
     "data": {
      "text/plain": [
       "'2024-08-26'"
      ]
     },
     "execution_count": 170,
     "metadata": {},
     "output_type": "execute_result"
    }
   ],
   "source": [
    "y = datetime.strptime('2024-08-26','%Y-%m-%d')\n",
    "y.strftime('%Y-%m-%d')"
   ]
  },
  {
   "cell_type": "code",
   "execution_count": 165,
   "id": "7557b2f5",
   "metadata": {},
   "outputs": [
    {
     "data": {
      "text/plain": [
       "'2024-26-08'"
      ]
     },
     "execution_count": 165,
     "metadata": {},
     "output_type": "execute_result"
    }
   ],
   "source": [
    "str_today = today.strftime('%Y-%d-%m')\n",
    "today.strftime('%Y-%d-%m')"
   ]
  },
  {
   "cell_type": "code",
   "execution_count": 167,
   "id": "5fa8a0d9",
   "metadata": {},
   "outputs": [
    {
     "data": {
      "text/plain": [
       "Timestamp('2024-08-26 00:00:00')"
      ]
     },
     "execution_count": 167,
     "metadata": {},
     "output_type": "execute_result"
    }
   ],
   "source": [
    "today"
   ]
  },
  {
   "cell_type": "code",
   "execution_count": 166,
   "id": "b05a62e6",
   "metadata": {},
   "outputs": [
    {
     "data": {
      "text/plain": [
       "'2024-26-08'"
      ]
     },
     "execution_count": 166,
     "metadata": {},
     "output_type": "execute_result"
    }
   ],
   "source": [
    "str_today"
   ]
  },
  {
   "cell_type": "markdown",
   "id": "0acefcd8",
   "metadata": {},
   "source": [
    "# datetime.strptime string to datetime\n",
    "\n",
    "# date.strftime datetime to  formated string "
   ]
  },
  {
   "cell_type": "code",
   "execution_count": 171,
   "id": "6e127279",
   "metadata": {},
   "outputs": [
    {
     "data": {
      "text/html": [
       "<div>\n",
       "<style scoped>\n",
       "    .dataframe tbody tr th:only-of-type {\n",
       "        vertical-align: middle;\n",
       "    }\n",
       "\n",
       "    .dataframe tbody tr th {\n",
       "        vertical-align: top;\n",
       "    }\n",
       "\n",
       "    .dataframe thead th {\n",
       "        text-align: right;\n",
       "    }\n",
       "</style>\n",
       "<table border=\"1\" class=\"dataframe\">\n",
       "  <thead>\n",
       "    <tr style=\"text-align: right;\">\n",
       "      <th></th>\n",
       "      <th>Name</th>\n",
       "      <th>Date</th>\n",
       "      <th>Location</th>\n",
       "    </tr>\n",
       "  </thead>\n",
       "  <tbody>\n",
       "    <tr>\n",
       "      <th>0</th>\n",
       "      <td>Alice</td>\n",
       "      <td>2023-08-01</td>\n",
       "      <td>New York</td>\n",
       "    </tr>\n",
       "    <tr>\n",
       "      <th>1</th>\n",
       "      <td>Bob</td>\n",
       "      <td>2023-08-02</td>\n",
       "      <td>Los Angeles</td>\n",
       "    </tr>\n",
       "    <tr>\n",
       "      <th>2</th>\n",
       "      <td>Charlie</td>\n",
       "      <td>2023-08-03</td>\n",
       "      <td>Chicago</td>\n",
       "    </tr>\n",
       "    <tr>\n",
       "      <th>3</th>\n",
       "      <td>David</td>\n",
       "      <td>2023-08-04</td>\n",
       "      <td>Houston</td>\n",
       "    </tr>\n",
       "    <tr>\n",
       "      <th>4</th>\n",
       "      <td>Eva</td>\n",
       "      <td>2023-08-05</td>\n",
       "      <td>Phoenix</td>\n",
       "    </tr>\n",
       "  </tbody>\n",
       "</table>\n",
       "</div>"
      ],
      "text/plain": [
       "      Name       Date     Location\n",
       "0    Alice 2023-08-01     New York\n",
       "1      Bob 2023-08-02  Los Angeles\n",
       "2  Charlie 2023-08-03      Chicago\n",
       "3    David 2023-08-04      Houston\n",
       "4      Eva 2023-08-05      Phoenix"
      ]
     },
     "execution_count": 171,
     "metadata": {},
     "output_type": "execute_result"
    }
   ],
   "source": [
    "df"
   ]
  },
  {
   "cell_type": "code",
   "execution_count": 172,
   "id": "6dfaf07b",
   "metadata": {},
   "outputs": [
    {
     "data": {
      "text/plain": [
       "0    2023Q3\n",
       "1    2023Q3\n",
       "2    2023Q3\n",
       "3    2023Q3\n",
       "4    2023Q3\n",
       "Name: Date, dtype: period[Q-DEC]"
      ]
     },
     "execution_count": 172,
     "metadata": {},
     "output_type": "execute_result"
    }
   ],
   "source": [
    "df['Date'].dt.to_period('Q')"
   ]
  },
  {
   "cell_type": "code",
   "execution_count": null,
   "id": "6cb618b3",
   "metadata": {},
   "outputs": [],
   "source": []
  },
  {
   "cell_type": "code",
   "execution_count": 173,
   "id": "935cb3f2",
   "metadata": {},
   "outputs": [],
   "source": [
    "import pytz\n",
    "timezone = pytz.timezone(\"America/New_York\")"
   ]
  },
  {
   "cell_type": "code",
   "execution_count": 174,
   "id": "9fd2fae9",
   "metadata": {},
   "outputs": [
    {
     "data": {
      "text/plain": [
       "datetime.datetime(2024, 8, 26, 15, 44, 25, 969404, tzinfo=<DstTzInfo 'America/New_York' EDT-1 day, 20:00:00 DST>)"
      ]
     },
     "execution_count": 174,
     "metadata": {},
     "output_type": "execute_result"
    }
   ],
   "source": [
    "timezone.localize(current_datetime)"
   ]
  },
  {
   "cell_type": "code",
   "execution_count": 181,
   "id": "93c9ef57",
   "metadata": {},
   "outputs": [
    {
     "data": {
      "text/plain": [
       "35"
      ]
     },
     "execution_count": 181,
     "metadata": {},
     "output_type": "execute_result"
    }
   ],
   "source": [
    "current_datetime.isocalendar()[1]  # .dt.month for dataframe"
   ]
  },
  {
   "cell_type": "code",
   "execution_count": 182,
   "id": "bb5e890f",
   "metadata": {},
   "outputs": [
    {
     "data": {
      "text/plain": [
       "1"
      ]
     },
     "execution_count": 182,
     "metadata": {},
     "output_type": "execute_result"
    }
   ],
   "source": [
    "current_datetime.isocalendar()[2] # .dt.day"
   ]
  },
  {
   "cell_type": "code",
   "execution_count": 184,
   "id": "dd9afd39",
   "metadata": {},
   "outputs": [
    {
     "data": {
      "text/plain": [
       "2024"
      ]
     },
     "execution_count": 184,
     "metadata": {},
     "output_type": "execute_result"
    }
   ],
   "source": [
    "current_datetime.isocalendar()[0] # .dt.year"
   ]
  },
  {
   "cell_type": "code",
   "execution_count": 190,
   "id": "69aef500",
   "metadata": {},
   "outputs": [
    {
     "data": {
      "text/plain": [
       "datetime.IsoCalendarDate(year=2024, week=35, weekday=1)"
      ]
     },
     "execution_count": 190,
     "metadata": {},
     "output_type": "execute_result"
    }
   ],
   "source": [
    "x,y,z =current_datetime.isocalendar()\n",
    "current_datetime.isocalendar()"
   ]
  },
  {
   "cell_type": "code",
   "execution_count": 189,
   "id": "386d5fb9",
   "metadata": {},
   "outputs": [
    {
     "data": {
      "text/plain": [
       "(2024, 35, 1)"
      ]
     },
     "execution_count": 189,
     "metadata": {},
     "output_type": "execute_result"
    }
   ],
   "source": [
    "x,y,z"
   ]
  },
  {
   "cell_type": "code",
   "execution_count": null,
   "id": "b942d2de",
   "metadata": {},
   "outputs": [],
   "source": []
  },
  {
   "cell_type": "code",
   "execution_count": null,
   "id": "0bdd61b9",
   "metadata": {},
   "outputs": [],
   "source": []
  }
 ],
 "metadata": {
  "kernelspec": {
   "display_name": "Python 3 (ipykernel)",
   "language": "python",
   "name": "python3"
  },
  "language_info": {
   "codemirror_mode": {
    "name": "ipython",
    "version": 3
   },
   "file_extension": ".py",
   "mimetype": "text/x-python",
   "name": "python",
   "nbconvert_exporter": "python",
   "pygments_lexer": "ipython3",
   "version": "3.9.19"
  }
 },
 "nbformat": 4,
 "nbformat_minor": 5
}
