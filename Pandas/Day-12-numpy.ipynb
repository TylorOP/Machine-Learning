{
 "cells": [
  {
   "cell_type": "code",
   "execution_count": 3,
   "id": "6a9c6952",
   "metadata": {},
   "outputs": [],
   "source": [
    "import numpy as np"
   ]
  },
  {
   "cell_type": "code",
   "execution_count": 28,
   "id": "24e3ef0d",
   "metadata": {},
   "outputs": [],
   "source": [
    "# array\n",
    "\n",
    "a = np.array([53,67,3,2,667,3,5,'sti','python','shub'])"
   ]
  },
  {
   "cell_type": "code",
   "execution_count": 5,
   "id": "5698da78",
   "metadata": {},
   "outputs": [
    {
     "data": {
      "text/plain": [
       "array(['53', '67', '3', '2', '667', '3', '5', 'sti', 'python', 'shub'],\n",
       "      dtype='<U21')"
      ]
     },
     "execution_count": 5,
     "metadata": {},
     "output_type": "execute_result"
    }
   ],
   "source": [
    "a"
   ]
  },
  {
   "cell_type": "code",
   "execution_count": 6,
   "id": "e6db71a8",
   "metadata": {},
   "outputs": [
    {
     "data": {
      "text/plain": [
       "numpy.ndarray"
      ]
     },
     "execution_count": 6,
     "metadata": {},
     "output_type": "execute_result"
    }
   ],
   "source": [
    "type(a)"
   ]
  },
  {
   "cell_type": "code",
   "execution_count": 7,
   "id": "6e9f7182",
   "metadata": {},
   "outputs": [
    {
     "data": {
      "text/plain": [
       "dtype('<U21')"
      ]
     },
     "execution_count": 7,
     "metadata": {},
     "output_type": "execute_result"
    }
   ],
   "source": [
    "a.dtype"
   ]
  },
  {
   "cell_type": "code",
   "execution_count": 9,
   "id": "0424ffe9",
   "metadata": {},
   "outputs": [],
   "source": [
    "b = np.array([532,534,56345,42,549,872])"
   ]
  },
  {
   "cell_type": "code",
   "execution_count": 10,
   "id": "aeff58b5",
   "metadata": {},
   "outputs": [
    {
     "data": {
      "text/plain": [
       "array([  532,   534, 56345,    42,   549,   872])"
      ]
     },
     "execution_count": 10,
     "metadata": {},
     "output_type": "execute_result"
    }
   ],
   "source": [
    "b"
   ]
  },
  {
   "cell_type": "code",
   "execution_count": 11,
   "id": "56686d0b",
   "metadata": {},
   "outputs": [
    {
     "data": {
      "text/plain": [
       "numpy.ndarray"
      ]
     },
     "execution_count": 11,
     "metadata": {},
     "output_type": "execute_result"
    }
   ],
   "source": [
    "type(b)"
   ]
  },
  {
   "cell_type": "code",
   "execution_count": 12,
   "id": "a54aa81d",
   "metadata": {},
   "outputs": [
    {
     "data": {
      "text/plain": [
       "dtype('int64')"
      ]
     },
     "execution_count": 12,
     "metadata": {},
     "output_type": "execute_result"
    }
   ],
   "source": [
    "b.dtype"
   ]
  },
  {
   "cell_type": "code",
   "execution_count": 13,
   "id": "1432c125",
   "metadata": {},
   "outputs": [],
   "source": [
    "c = np.array([43,354,34],dtype='int32')"
   ]
  },
  {
   "cell_type": "code",
   "execution_count": 14,
   "id": "53c5837d",
   "metadata": {},
   "outputs": [
    {
     "data": {
      "text/plain": [
       "array([ 43, 354,  34], dtype=int32)"
      ]
     },
     "execution_count": 14,
     "metadata": {},
     "output_type": "execute_result"
    }
   ],
   "source": [
    "c"
   ]
  },
  {
   "cell_type": "code",
   "execution_count": 27,
   "id": "774540fb",
   "metadata": {},
   "outputs": [
    {
     "data": {
      "text/plain": [
       "array([ 43., 354.,  34.], dtype=float16)"
      ]
     },
     "execution_count": 27,
     "metadata": {},
     "output_type": "execute_result"
    }
   ],
   "source": [
    "c.astype('float16') # 16,32,64,128.."
   ]
  },
  {
   "cell_type": "code",
   "execution_count": 32,
   "id": "524378cb",
   "metadata": {},
   "outputs": [],
   "source": [
    "# 0d\n",
    "_ = np.array(3)"
   ]
  },
  {
   "cell_type": "code",
   "execution_count": 40,
   "id": "ef63ba79",
   "metadata": {},
   "outputs": [
    {
     "data": {
      "text/plain": [
       "array(3)"
      ]
     },
     "execution_count": 40,
     "metadata": {},
     "output_type": "execute_result"
    }
   ],
   "source": [
    "_"
   ]
  },
  {
   "cell_type": "code",
   "execution_count": 35,
   "id": "11c3bd3e",
   "metadata": {},
   "outputs": [
    {
     "data": {
      "text/plain": [
       "0"
      ]
     },
     "execution_count": 35,
     "metadata": {},
     "output_type": "execute_result"
    }
   ],
   "source": [
    "_.ndim"
   ]
  },
  {
   "cell_type": "code",
   "execution_count": 36,
   "id": "1dfa9a21",
   "metadata": {},
   "outputs": [],
   "source": [
    "# 1d\n",
    "a = np.array([3])"
   ]
  },
  {
   "cell_type": "code",
   "execution_count": 41,
   "id": "b3fdcffe",
   "metadata": {},
   "outputs": [
    {
     "data": {
      "text/plain": [
       "array([3])"
      ]
     },
     "execution_count": 41,
     "metadata": {},
     "output_type": "execute_result"
    }
   ],
   "source": [
    "a"
   ]
  },
  {
   "cell_type": "code",
   "execution_count": 31,
   "id": "1f2f5756",
   "metadata": {},
   "outputs": [
    {
     "data": {
      "text/plain": [
       "1"
      ]
     },
     "execution_count": 31,
     "metadata": {},
     "output_type": "execute_result"
    }
   ],
   "source": [
    "a.ndim"
   ]
  },
  {
   "cell_type": "code",
   "execution_count": 46,
   "id": "3dc17216",
   "metadata": {},
   "outputs": [],
   "source": [
    "# 2d\n",
    "b = np.array([[1,2,4],[3,5,4]])"
   ]
  },
  {
   "cell_type": "code",
   "execution_count": 47,
   "id": "dc3d2d25",
   "metadata": {},
   "outputs": [
    {
     "data": {
      "text/plain": [
       "array([[1, 2, 4],\n",
       "       [3, 5, 4]])"
      ]
     },
     "execution_count": 47,
     "metadata": {},
     "output_type": "execute_result"
    }
   ],
   "source": [
    "b"
   ]
  },
  {
   "cell_type": "code",
   "execution_count": 48,
   "id": "3ebf805b",
   "metadata": {},
   "outputs": [
    {
     "data": {
      "text/plain": [
       "2"
      ]
     },
     "execution_count": 48,
     "metadata": {},
     "output_type": "execute_result"
    }
   ],
   "source": [
    "b.ndim"
   ]
  },
  {
   "cell_type": "code",
   "execution_count": 55,
   "id": "18af4fcb",
   "metadata": {},
   "outputs": [],
   "source": [
    "# 3d\n",
    "\n",
    "c =np.array([[[1,2,3,4],[7,8,5,9]]])"
   ]
  },
  {
   "cell_type": "code",
   "execution_count": 56,
   "id": "8577ae52",
   "metadata": {},
   "outputs": [
    {
     "data": {
      "text/plain": [
       "array([[[1, 2, 3, 4],\n",
       "        [7, 8, 5, 9]]])"
      ]
     },
     "execution_count": 56,
     "metadata": {},
     "output_type": "execute_result"
    }
   ],
   "source": [
    "c"
   ]
  },
  {
   "cell_type": "code",
   "execution_count": 57,
   "id": "021a6b1f",
   "metadata": {},
   "outputs": [
    {
     "data": {
      "text/plain": [
       "3"
      ]
     },
     "execution_count": 57,
     "metadata": {},
     "output_type": "execute_result"
    }
   ],
   "source": [
    "c.ndim"
   ]
  },
  {
   "cell_type": "code",
   "execution_count": 86,
   "id": "eeb4ba46",
   "metadata": {},
   "outputs": [],
   "source": [
    "c2 = np.array([[[123,232,43],[987,532,755]],[[5,3,4],[7,2,9]]])"
   ]
  },
  {
   "cell_type": "code",
   "execution_count": 87,
   "id": "2f4b7114",
   "metadata": {},
   "outputs": [
    {
     "data": {
      "text/plain": [
       "array([[[123, 232,  43],\n",
       "        [987, 532, 755]],\n",
       "\n",
       "       [[  5,   3,   4],\n",
       "        [  7,   2,   9]]])"
      ]
     },
     "execution_count": 87,
     "metadata": {},
     "output_type": "execute_result"
    }
   ],
   "source": [
    "c2"
   ]
  },
  {
   "cell_type": "code",
   "execution_count": 88,
   "id": "b073ba32",
   "metadata": {},
   "outputs": [
    {
     "data": {
      "text/plain": [
       "3"
      ]
     },
     "execution_count": 88,
     "metadata": {},
     "output_type": "execute_result"
    }
   ],
   "source": [
    "c2.ndim"
   ]
  },
  {
   "cell_type": "code",
   "execution_count": 115,
   "id": "40aa0c19",
   "metadata": {},
   "outputs": [],
   "source": [
    "#Acesssing\n",
    "# if 2d arrray then [row] [col]\n",
    "# if 3d and more then [layer] [row] [col]   and [layer][slicing]"
   ]
  },
  {
   "cell_type": "code",
   "execution_count": 90,
   "id": "987e1c54",
   "metadata": {},
   "outputs": [
    {
     "data": {
      "text/plain": [
       "2"
      ]
     },
     "execution_count": 90,
     "metadata": {},
     "output_type": "execute_result"
    }
   ],
   "source": [
    "b.ndim"
   ]
  },
  {
   "cell_type": "code",
   "execution_count": 94,
   "id": "ebf4d2f6",
   "metadata": {},
   "outputs": [
    {
     "data": {
      "text/plain": [
       "4"
      ]
     },
     "execution_count": 94,
     "metadata": {},
     "output_type": "execute_result"
    }
   ],
   "source": [
    "b[0][2]"
   ]
  },
  {
   "cell_type": "code",
   "execution_count": 100,
   "id": "3c2e705c",
   "metadata": {},
   "outputs": [
    {
     "data": {
      "text/plain": [
       "3"
      ]
     },
     "execution_count": 100,
     "metadata": {},
     "output_type": "execute_result"
    }
   ],
   "source": [
    "c2.ndim"
   ]
  },
  {
   "cell_type": "code",
   "execution_count": 103,
   "id": "af888d97",
   "metadata": {},
   "outputs": [
    {
     "data": {
      "text/plain": [
       "array([[[123, 232,  43],\n",
       "        [987, 532, 755]],\n",
       "\n",
       "       [[  5,   3,   4],\n",
       "        [  7,   2,   9]]])"
      ]
     },
     "execution_count": 103,
     "metadata": {},
     "output_type": "execute_result"
    }
   ],
   "source": [
    "c2"
   ]
  },
  {
   "cell_type": "code",
   "execution_count": 105,
   "id": "8c82ea08",
   "metadata": {},
   "outputs": [
    {
     "data": {
      "text/plain": [
       "532"
      ]
     },
     "execution_count": 105,
     "metadata": {},
     "output_type": "execute_result"
    }
   ],
   "source": [
    "c2[0][1][1]"
   ]
  },
  {
   "cell_type": "code",
   "execution_count": 108,
   "id": "3d3834fb",
   "metadata": {},
   "outputs": [
    {
     "data": {
      "text/plain": [
       "array([4, 9])"
      ]
     },
     "execution_count": 108,
     "metadata": {},
     "output_type": "execute_result"
    }
   ],
   "source": [
    "# 4 9\n",
    "\n",
    "c2[1][:,2]"
   ]
  },
  {
   "cell_type": "code",
   "execution_count": 109,
   "id": "c678f466",
   "metadata": {},
   "outputs": [
    {
     "data": {
      "text/plain": [
       "array([987, 532, 755])"
      ]
     },
     "execution_count": 109,
     "metadata": {},
     "output_type": "execute_result"
    }
   ],
   "source": [
    "# 987 532 755\n",
    "\n",
    "c2[0][1,:]"
   ]
  },
  {
   "cell_type": "code",
   "execution_count": 111,
   "id": "d2fb97b0",
   "metadata": {},
   "outputs": [
    {
     "data": {
      "text/plain": [
       "array([3, 2])"
      ]
     },
     "execution_count": 111,
     "metadata": {},
     "output_type": "execute_result"
    }
   ],
   "source": [
    "# 32\n",
    "c2[1][:,1]"
   ]
  },
  {
   "cell_type": "code",
   "execution_count": 112,
   "id": "4595bdde",
   "metadata": {},
   "outputs": [
    {
     "data": {
      "text/plain": [
       "array([3, 4])"
      ]
     },
     "execution_count": 112,
     "metadata": {},
     "output_type": "execute_result"
    }
   ],
   "source": [
    "# 34\n",
    "c2[1][0,1:]"
   ]
  },
  {
   "cell_type": "code",
   "execution_count": 118,
   "id": "4bf61a15",
   "metadata": {},
   "outputs": [
    {
     "data": {
      "text/plain": [
       "array([987, 532])"
      ]
     },
     "execution_count": 118,
     "metadata": {},
     "output_type": "execute_result"
    }
   ],
   "source": [
    "#987, 532\n",
    "c2[0][1,0:2]\n",
    "c2[0][1,:2]"
   ]
  },
  {
   "cell_type": "code",
   "execution_count": 120,
   "id": "de9b3625",
   "metadata": {},
   "outputs": [
    {
     "data": {
      "text/plain": [
       "755"
      ]
     },
     "execution_count": 120,
     "metadata": {},
     "output_type": "execute_result"
    }
   ],
   "source": [
    "# 755\n",
    "c2[0][1][2]"
   ]
  },
  {
   "cell_type": "code",
   "execution_count": 132,
   "id": "2d3da7ae",
   "metadata": {},
   "outputs": [
    {
     "data": {
      "text/plain": [
       "9"
      ]
     },
     "execution_count": 132,
     "metadata": {},
     "output_type": "execute_result"
    }
   ],
   "source": [
    "# 9\n",
    "c2[1][1][2]"
   ]
  },
  {
   "cell_type": "code",
   "execution_count": 133,
   "id": "ac356b5f",
   "metadata": {},
   "outputs": [
    {
     "data": {
      "text/plain": [
       "array([[1, 2, 4],\n",
       "       [3, 5, 4]])"
      ]
     },
     "execution_count": 133,
     "metadata": {},
     "output_type": "execute_result"
    }
   ],
   "source": [
    "b"
   ]
  },
  {
   "cell_type": "code",
   "execution_count": 141,
   "id": "f8f7732b",
   "metadata": {},
   "outputs": [
    {
     "data": {
      "text/plain": [
       "array([[1, 2],\n",
       "       [4, 3],\n",
       "       [5, 4]])"
      ]
     },
     "execution_count": 141,
     "metadata": {},
     "output_type": "execute_result"
    }
   ],
   "source": [
    "# reshape rule : it must not violating the multiplication   2*3=6\n",
    "b.reshape(3,2)"
   ]
  },
  {
   "cell_type": "code",
   "execution_count": 139,
   "id": "d4a47e44",
   "metadata": {},
   "outputs": [
    {
     "data": {
      "text/plain": [
       "array([[1, 2, 4, 3, 5, 4]])"
      ]
     },
     "execution_count": 139,
     "metadata": {},
     "output_type": "execute_result"
    }
   ],
   "source": [
    "b.reshape(1,6)"
   ]
  },
  {
   "cell_type": "code",
   "execution_count": 140,
   "id": "1312ca84",
   "metadata": {},
   "outputs": [
    {
     "data": {
      "text/plain": [
       "array([[1],\n",
       "       [2],\n",
       "       [4],\n",
       "       [3],\n",
       "       [5],\n",
       "       [4]])"
      ]
     },
     "execution_count": 140,
     "metadata": {},
     "output_type": "execute_result"
    }
   ],
   "source": [
    "b.reshape(6,1)"
   ]
  },
  {
   "cell_type": "code",
   "execution_count": 145,
   "id": "d509fa4f",
   "metadata": {},
   "outputs": [
    {
     "data": {
      "text/plain": [
       "array([[0, 0, 0],\n",
       "       [0, 0, 0],\n",
       "       [0, 0, 0]])"
      ]
     },
     "execution_count": 145,
     "metadata": {},
     "output_type": "execute_result"
    }
   ],
   "source": [
    "#Matrix\n",
    "\n",
    "\n",
    "np.zeros((3,3)).astype(int)"
   ]
  },
  {
   "cell_type": "code",
   "execution_count": 146,
   "id": "3212867c",
   "metadata": {},
   "outputs": [
    {
     "data": {
      "text/plain": [
       "array([[1., 1.],\n",
       "       [1., 1.]])"
      ]
     },
     "execution_count": 146,
     "metadata": {},
     "output_type": "execute_result"
    }
   ],
   "source": [
    "np.ones((2,2))"
   ]
  },
  {
   "cell_type": "code",
   "execution_count": 149,
   "id": "bf04573c",
   "metadata": {},
   "outputs": [
    {
     "data": {
      "text/plain": [
       "array([[1, 1, 1, 1, 1, 1],\n",
       "       [1, 1, 1, 1, 1, 1],\n",
       "       [1, 1, 1, 1, 1, 1]], dtype=int32)"
      ]
     },
     "execution_count": 149,
     "metadata": {},
     "output_type": "execute_result"
    }
   ],
   "source": [
    "np.ones((3,6),dtype='int32')"
   ]
  },
  {
   "cell_type": "code",
   "execution_count": 152,
   "id": "1f82edb9",
   "metadata": {},
   "outputs": [
    {
     "data": {
      "text/plain": [
       "array([[8, 8, 8, 8, 8, 8, 8],\n",
       "       [8, 8, 8, 8, 8, 8, 8]])"
      ]
     },
     "execution_count": 152,
     "metadata": {},
     "output_type": "execute_result"
    }
   ],
   "source": [
    "np.full((2,7),8)"
   ]
  },
  {
   "cell_type": "code",
   "execution_count": 156,
   "id": "eee86bbd",
   "metadata": {},
   "outputs": [
    {
     "data": {
      "text/plain": [
       "array([0, 1, 2, 3, 4])"
      ]
     },
     "execution_count": 156,
     "metadata": {},
     "output_type": "execute_result"
    }
   ],
   "source": [
    "#arrange same like range\n",
    "\n",
    "\n",
    "np.arange(5)"
   ]
  },
  {
   "cell_type": "code",
   "execution_count": 157,
   "id": "83f40cf0",
   "metadata": {},
   "outputs": [
    {
     "data": {
      "text/plain": [
       "array([0, 1, 2])"
      ]
     },
     "execution_count": 157,
     "metadata": {},
     "output_type": "execute_result"
    }
   ],
   "source": [
    "np.arange(0,3)"
   ]
  },
  {
   "cell_type": "code",
   "execution_count": 159,
   "id": "c04c185c",
   "metadata": {},
   "outputs": [
    {
     "data": {
      "text/plain": [
       "array([[1., 2.],\n",
       "       [3., 4.],\n",
       "       [5., 6.],\n",
       "       [7., 8.]], dtype=float16)"
      ]
     },
     "execution_count": 159,
     "metadata": {},
     "output_type": "execute_result"
    }
   ],
   "source": [
    "np.arange(1,9).reshape(4,2).astype('float16')"
   ]
  },
  {
   "cell_type": "code",
   "execution_count": 161,
   "id": "e8b5c055",
   "metadata": {},
   "outputs": [
    {
     "data": {
      "text/plain": [
       "array([0.55299715, 0.21987189, 0.84683507, 0.2468608 ])"
      ]
     },
     "execution_count": 161,
     "metadata": {},
     "output_type": "execute_result"
    }
   ],
   "source": [
    "#inbuilt random in numpy\n",
    "\n",
    "\n",
    "np.random.rand(4)    # 0 TO 1"
   ]
  },
  {
   "cell_type": "code",
   "execution_count": 162,
   "id": "c4160e50",
   "metadata": {},
   "outputs": [
    {
     "data": {
      "text/plain": [
       "array([0.41861109, 0.99584876, 0.89355095, 0.72752568, 0.8293296 ,\n",
       "       0.6358192 , 0.53428314, 0.80210236, 0.0986522 , 0.05601853,\n",
       "       0.4515934 , 0.50173946, 0.25378479, 0.14980888, 0.17940744,\n",
       "       0.44605953, 0.70123461, 0.47934844, 0.69352176, 0.68385479,\n",
       "       0.39144286, 0.32085985, 0.83549653, 0.18383811, 0.48222234,\n",
       "       0.02243731, 0.23967042, 0.88040961, 0.12358462, 0.80386587,\n",
       "       0.41217749, 0.58934545, 0.81054293, 0.66188154, 0.78732516,\n",
       "       0.52969621, 0.04574722, 0.14744682, 0.07158342, 0.17816218,\n",
       "       0.73833702, 0.83097847, 0.33280744, 0.26737697, 0.23935052,\n",
       "       0.68169426, 0.12456445, 0.00430109, 0.30647952, 0.64047994,\n",
       "       0.9890569 , 0.30349473, 0.85454926, 0.29216967, 0.12168212,\n",
       "       0.980074  , 0.12804585, 0.69757109, 0.52147654, 0.35247954,\n",
       "       0.25300154, 0.3162616 , 0.91651643, 0.88718432, 0.88060151,\n",
       "       0.94314085, 0.61027232, 0.48130352, 0.94013796, 0.32482634,\n",
       "       0.32459489, 0.60769385, 0.19387036, 0.82069466, 0.27178577,\n",
       "       0.11392283, 0.92802257, 0.14471357, 0.37620587, 0.59893891,\n",
       "       0.12876942, 0.43831343, 0.41107459, 0.11367295, 0.85698625,\n",
       "       0.72397845, 0.4746898 , 0.50020466, 0.22630366, 0.39455039])"
      ]
     },
     "execution_count": 162,
     "metadata": {},
     "output_type": "execute_result"
    }
   ],
   "source": [
    "np.random.rand(90)"
   ]
  },
  {
   "cell_type": "code",
   "execution_count": 165,
   "id": "ea152497",
   "metadata": {},
   "outputs": [
    {
     "data": {
      "text/plain": [
       "423"
      ]
     },
     "execution_count": 165,
     "metadata": {},
     "output_type": "execute_result"
    }
   ],
   "source": [
    "np.random.randint(4,750)"
   ]
  },
  {
   "cell_type": "code",
   "execution_count": 169,
   "id": "e67a29ff",
   "metadata": {},
   "outputs": [
    {
     "data": {
      "text/plain": [
       "array([677, 394, 601, 598,  66, 665, 576,  76, 417, 663])"
      ]
     },
     "execution_count": 169,
     "metadata": {},
     "output_type": "execute_result"
    }
   ],
   "source": [
    "np.random.randint(4,750,size=10)"
   ]
  },
  {
   "cell_type": "code",
   "execution_count": 172,
   "id": "124a5f42",
   "metadata": {},
   "outputs": [
    {
     "data": {
      "text/plain": [
       "array([54, 82,  8, 12, 40, 52, 11, 51, 67, 43, 18, 79, 60, 84, 25, 64, 29,\n",
       "       51, 82, 70, 65, 41, 71])"
      ]
     },
     "execution_count": 172,
     "metadata": {},
     "output_type": "execute_result"
    }
   ],
   "source": [
    "np.random.randint(3,90,23)     #23=how much"
   ]
  },
  {
   "cell_type": "code",
   "execution_count": 173,
   "id": "016ba221",
   "metadata": {},
   "outputs": [
    {
     "data": {
      "text/plain": [
       "array([-0.7273207 ,  0.31669236,  0.34825397, -0.48166533,  1.14192852])"
      ]
     },
     "execution_count": 173,
     "metadata": {},
     "output_type": "execute_result"
    }
   ],
   "source": [
    "np.random.randn(5)    # randomly 5 number which show distribution data"
   ]
  },
  {
   "cell_type": "code",
   "execution_count": 180,
   "id": "2d6a5d6a",
   "metadata": {},
   "outputs": [
    {
     "data": {
      "text/plain": [
       "array([-0.61374223, -0.30850139, -0.07621588, -0.97609744, -0.97998196,\n",
       "       -0.29823521,  0.86428544, -0.27044718, -0.25959584, -0.76957003,\n",
       "       -0.77428716,  0.77153158,  0.96570524,  1.2175858 ,  1.56133011,\n",
       "        2.04196409,  0.78028933,  1.27723834, -0.57749566,  0.48082434,\n",
       "       -1.30344092, -2.10919721, -0.48174189, -1.94751167, -0.24086976,\n",
       "        0.84460168, -0.57773053, -1.28523314, -0.94655175,  0.89139423,\n",
       "       -1.5639001 , -0.54247231,  1.11662033, -0.44011654,  1.27158995,\n",
       "       -2.37465678, -0.68305276, -1.52964215,  1.09820347,  0.16183993,\n",
       "        0.18583855, -0.92509678,  0.7608732 ,  0.01337031, -1.38240337,\n",
       "       -0.10315714, -1.59177619,  1.02866027,  0.4497145 ,  2.04660735])"
      ]
     },
     "execution_count": 180,
     "metadata": {},
     "output_type": "execute_result"
    }
   ],
   "source": [
    "np.random.randn(50)"
   ]
  },
  {
   "cell_type": "code",
   "execution_count": null,
   "id": "d4dd682a",
   "metadata": {},
   "outputs": [],
   "source": []
  }
 ],
 "metadata": {
  "kernelspec": {
   "display_name": "Python 3 (ipykernel)",
   "language": "python",
   "name": "python3"
  },
  "language_info": {
   "codemirror_mode": {
    "name": "ipython",
    "version": 3
   },
   "file_extension": ".py",
   "mimetype": "text/x-python",
   "name": "python",
   "nbconvert_exporter": "python",
   "pygments_lexer": "ipython3",
   "version": "3.9.19"
  }
 },
 "nbformat": 4,
 "nbformat_minor": 5
}
