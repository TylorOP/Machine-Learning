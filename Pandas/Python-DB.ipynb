{
 "cells": [
  {
   "cell_type": "code",
   "execution_count": 1,
   "id": "baa8a014",
   "metadata": {},
   "outputs": [
    {
     "name": "stdout",
     "output_type": "stream",
     "text": [
      "Requirement already satisfied: mysql-connector in c:\\users\\a i\\anaconda3\\lib\\site-packages (2.2.9)\n"
     ]
    }
   ],
   "source": [
    "!pip install mysql-connector"
   ]
  },
  {
   "cell_type": "code",
   "execution_count": 2,
   "id": "e6d115be",
   "metadata": {},
   "outputs": [
    {
     "name": "stdout",
     "output_type": "stream",
     "text": [
      "Requirement already satisfied: mysql-connector-python in c:\\users\\a i\\anaconda3\\lib\\site-packages (8.3.0)\n"
     ]
    }
   ],
   "source": [
    "!pip install mysql-connector-python"
   ]
  },
  {
   "cell_type": "code",
   "execution_count": null,
   "id": "6d6a37d5",
   "metadata": {},
   "outputs": [],
   "source": [
    "mysql - server\n",
    "mssql - server\n",
    "\n",
    "\n",
    "AWS RDS: mysql,mssql,oracle\n",
    "AWS s3 : bucket data fetch\n",
    "\n",
    "Azure Blob Storage \n",
    "local file upload\n",
    "download\n"
   ]
  },
  {
   "cell_type": "code",
   "execution_count": null,
   "id": "e578affa",
   "metadata": {},
   "outputs": [],
   "source": [
    "env variable\n",
    "config file\n",
    "secreate manager -- key-vaualt"
   ]
  },
  {
   "cell_type": "code",
   "execution_count": 4,
   "id": "fa976e74",
   "metadata": {},
   "outputs": [],
   "source": [
    "import mysql.connector as msc"
   ]
  },
  {
   "cell_type": "code",
   "execution_count": 9,
   "id": "04a91d33",
   "metadata": {},
   "outputs": [],
   "source": [
    "import json"
   ]
  },
  {
   "cell_type": "code",
   "execution_count": 14,
   "id": "7a8233a0",
   "metadata": {},
   "outputs": [],
   "source": [
    "config = open(\"config.json\")\n",
    "cred = json.load(config)"
   ]
  },
  {
   "cell_type": "code",
   "execution_count": 12,
   "id": "0ba0dfb8",
   "metadata": {},
   "outputs": [],
   "source": [
    "#connection string\n",
    "conn = msc.connect(host=cred['host'],user=cred['username'],passwd=cred['password'],port=cred['port'])"
   ]
  },
  {
   "cell_type": "code",
   "execution_count": 15,
   "id": "0c0862a4",
   "metadata": {},
   "outputs": [],
   "source": [
    "cur = conn.cursor()"
   ]
  },
  {
   "cell_type": "code",
   "execution_count": 17,
   "id": "77db2bba",
   "metadata": {},
   "outputs": [
    {
     "name": "stdout",
     "output_type": "stream",
     "text": [
      "database successfully created\n"
     ]
    }
   ],
   "source": [
    "sql_query = \"create database pythondb28072024\"\n",
    "\n",
    "cur.execute(sql_query)\n",
    "print(\"database successfully created\")"
   ]
  },
  {
   "cell_type": "code",
   "execution_count": null,
   "id": "d8c831b9",
   "metadata": {},
   "outputs": [],
   "source": []
  },
  {
   "cell_type": "code",
   "execution_count": 18,
   "id": "46481b12",
   "metadata": {},
   "outputs": [],
   "source": [
    "#mssql server"
   ]
  },
  {
   "cell_type": "code",
   "execution_count": 19,
   "id": "c2d5a79c",
   "metadata": {},
   "outputs": [
    {
     "name": "stdout",
     "output_type": "stream",
     "text": [
      "Requirement already satisfied: pyodbc in c:\\users\\a i\\anaconda3\\lib\\site-packages (4.0.0-unsupported)\n"
     ]
    }
   ],
   "source": [
    "!pip install pyodbc"
   ]
  },
  {
   "cell_type": "code",
   "execution_count": 2,
   "id": "3a342166",
   "metadata": {},
   "outputs": [],
   "source": [
    "import pyodbc"
   ]
  },
  {
   "cell_type": "code",
   "execution_count": 2,
   "id": "c161e9a2",
   "metadata": {},
   "outputs": [],
   "source": [
    "connectionstring = f'DRIVER={{ODBC Driver 17 for SQL server}};SERVER={\"KANTILAL-AI\"};DATABASE={\"pythondbconn\"};Trusted_Connection=yes'"
   ]
  },
  {
   "cell_type": "code",
   "execution_count": 41,
   "id": "5567f4ed",
   "metadata": {},
   "outputs": [],
   "source": [
    "\n",
    "conn = pyodbc.connect(connectionstring)\n",
    "cur = conn.cursor()\n",
    "cur.execute(\"create table emp111123(id int,name varchar(20))\")\n",
    "conn.close()"
   ]
  },
  {
   "cell_type": "code",
   "execution_count": 49,
   "id": "1f479e57",
   "metadata": {},
   "outputs": [],
   "source": [
    "#insert operation"
   ]
  },
  {
   "cell_type": "code",
   "execution_count": 53,
   "id": "ead55c31",
   "metadata": {},
   "outputs": [],
   "source": [
    "conn = pyodbc.connect(connectionstring)\n",
    "cur = conn.cursor()"
   ]
  },
  {
   "cell_type": "code",
   "execution_count": 56,
   "id": "01d418a3",
   "metadata": {},
   "outputs": [],
   "source": [
    "cur.execute(\"insert into emp111123 values(102,'madhav')\")\n",
    "cur.commit()"
   ]
  },
  {
   "cell_type": "code",
   "execution_count": 3,
   "id": "95ab97c1",
   "metadata": {},
   "outputs": [],
   "source": [
    "connectionstring = f'DRIVER={{ODBC Driver 17 for SQL server}};SERVER={\"KANTILAL-AI\"};DATABASE={\"pythondbconn\"};Trusted_Connection=yes'\n",
    "conn = pyodbc.connect(connectionstring)\n",
    "cur = conn.cursor()"
   ]
  },
  {
   "cell_type": "code",
   "execution_count": 5,
   "id": "3d58f885",
   "metadata": {},
   "outputs": [],
   "source": [
    "def db_decor(fun):\n",
    "    def inner():\n",
    "        global connectionstring,conn,cur\n",
    "        connectionstring = f'DRIVER={{ODBC Driver 17 for SQL server}};SERVER={\"KANTILAL-AI\"};DATABASE={\"pythondbconn\"};Trusted_Connection=yes'\n",
    "        conn = pyodbc.connect(connectionstring)\n",
    "        cur = conn.cursor()\n",
    "        fun()\n",
    "        cur.commit()\n",
    "        conn.close()\n",
    "    return inner\n",
    "        "
   ]
  },
  {
   "cell_type": "code",
   "execution_count": 6,
   "id": "1f45733a",
   "metadata": {},
   "outputs": [],
   "source": [
    "@db_decor\n",
    "def datafetch():\n",
    "    cur.execute(\"insert into emp111123 values(102,'kkkkk')\")"
   ]
  },
  {
   "cell_type": "code",
   "execution_count": 7,
   "id": "dc1b91ed",
   "metadata": {},
   "outputs": [],
   "source": [
    "datafetch()"
   ]
  },
  {
   "cell_type": "code",
   "execution_count": null,
   "id": "c3dc377c",
   "metadata": {},
   "outputs": [],
   "source": []
  },
  {
   "cell_type": "code",
   "execution_count": 8,
   "id": "c9093f9a",
   "metadata": {},
   "outputs": [],
   "source": [
    "@db_decor\n",
    "def datadump():\n",
    "    cur.execute(\"insert into emp111123 values(106,'tushar')\")"
   ]
  },
  {
   "cell_type": "code",
   "execution_count": 9,
   "id": "12666c6d",
   "metadata": {},
   "outputs": [],
   "source": [
    "datadump()"
   ]
  },
  {
   "cell_type": "code",
   "execution_count": null,
   "id": "5ea70a91",
   "metadata": {},
   "outputs": [],
   "source": [
    "#select -- fetch "
   ]
  },
  {
   "cell_type": "code",
   "execution_count": null,
   "id": "d12295c2",
   "metadata": {},
   "outputs": [],
   "source": [
    "fetch one\n",
    "fetch many\n",
    "fetch all\n"
   ]
  },
  {
   "cell_type": "code",
   "execution_count": 3,
   "id": "37e01fb9",
   "metadata": {},
   "outputs": [],
   "source": [
    "connectionstring = f'DRIVER={{ODBC Driver 17 for SQL server}};SERVER={\"KANTILAL-AI\"};DATABASE={\"pythondbconn\"};Trusted_Connection=yes'\n",
    "conn = pyodbc.connect(connectionstring)\n",
    "cur = conn.cursor()"
   ]
  },
  {
   "cell_type": "code",
   "execution_count": 26,
   "id": "75b4416f",
   "metadata": {},
   "outputs": [
    {
     "data": {
      "text/plain": [
       "<pyodbc.Cursor at 0x21918d3c7b0>"
      ]
     },
     "execution_count": 26,
     "metadata": {},
     "output_type": "execute_result"
    }
   ],
   "source": [
    "cur.execute(\"select * from emp111123\")"
   ]
  },
  {
   "cell_type": "code",
   "execution_count": 17,
   "id": "f6d8be18",
   "metadata": {},
   "outputs": [
    {
     "data": {
      "text/plain": [
       "[(101, 'keshav'),\n",
       " (101, 'keshav'),\n",
       " (102, 'madhav'),\n",
       " (102, 'kkkkk'),\n",
       " (106, 'tushar')]"
      ]
     },
     "execution_count": 17,
     "metadata": {},
     "output_type": "execute_result"
    }
   ],
   "source": [
    "cur.fetchall()"
   ]
  },
  {
   "cell_type": "code",
   "execution_count": 23,
   "id": "99d0c903",
   "metadata": {},
   "outputs": [
    {
     "data": {
      "text/plain": [
       "(102, 'kkkkk')"
      ]
     },
     "execution_count": 23,
     "metadata": {},
     "output_type": "execute_result"
    }
   ],
   "source": [
    "cur.fetchone()"
   ]
  },
  {
   "cell_type": "code",
   "execution_count": 27,
   "id": "586bbc9b",
   "metadata": {},
   "outputs": [
    {
     "data": {
      "text/plain": [
       "[(101, 'keshav'), (101, 'keshav'), (102, 'madhav')]"
      ]
     },
     "execution_count": 27,
     "metadata": {},
     "output_type": "execute_result"
    }
   ],
   "source": [
    "cur.fetchmany(3)"
   ]
  },
  {
   "cell_type": "code",
   "execution_count": 29,
   "id": "14628d8c",
   "metadata": {},
   "outputs": [],
   "source": [
    "#delete obj"
   ]
  },
  {
   "cell_type": "code",
   "execution_count": 30,
   "id": "d6039626",
   "metadata": {},
   "outputs": [],
   "source": [
    "cur.execute(\"delete from emp111123 where id=102\")\n",
    "cur.commit()\n",
    "conn.close()"
   ]
  },
  {
   "cell_type": "code",
   "execution_count": 4,
   "id": "bbe3fb36",
   "metadata": {},
   "outputs": [],
   "source": [
    "#bulk insert\n",
    "\n",
    "cur.execute(\"\"\"BULK INSERT emp111123\n",
    "FROM 'C:\\\\Users\\\\A I\\\\Desktop\\\\empcsv.csv'\n",
    "WITH ( FORMAT = 'csv')\"\"\")\n",
    "cur.commit()\n",
    "conn.close()"
   ]
  },
  {
   "cell_type": "code",
   "execution_count": null,
   "id": "a16cf78e",
   "metadata": {},
   "outputs": [],
   "source": [
    "mysql\n",
    "mssql server\n",
    "\n",
    "\n",
    "mongoDB\n",
    "postgrey\n",
    "oracle"
   ]
  }
 ],
 "metadata": {
  "kernelspec": {
   "display_name": "Python 3",
   "language": "python",
   "name": "python3"
  },
  "language_info": {
   "codemirror_mode": {
    "name": "ipython",
    "version": 3
   },
   "file_extension": ".py",
   "mimetype": "text/x-python",
   "name": "python",
   "nbconvert_exporter": "python",
   "pygments_lexer": "ipython3",
   "version": "3.8.8"
  }
 },
 "nbformat": 4,
 "nbformat_minor": 5
}
